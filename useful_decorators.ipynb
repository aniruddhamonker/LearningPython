{
 "cells": [
  {
   "attachments": {},
   "cell_type": "markdown",
   "metadata": {},
   "source": [
    "# Useful Decorators\n",
    "\n",
    "## Caching Decorator\n",
    "\n",
    "This decorator caches the return value of the function after it 1st call in the program. When the function is called again in the program with the same attributes, it doesnt have to run the function again. It can simply return the cached value of that function when called with the same arguments."
   ]
  },
  {
   "cell_type": "code",
   "execution_count": 10,
   "metadata": {},
   "outputs": [
    {
     "name": "stdout",
     "output_type": "stream",
     "text": [
      "introducing delay in the function runtime\n",
      "3\n",
      "3\n",
      "3\n"
     ]
    }
   ],
   "source": [
    "from functools import lru_cache\n",
    "import time\n",
    "\n",
    "@lru_cache\n",
    "def count_vowels(text: str) -> None:\n",
    "    \"\"\"\n",
    "    A function that counts all the vowels in a given string.\n",
    "\n",
    "    :param text: The string to analyse\n",
    "    :return: The amount of vowels as an integer\n",
    "    \"\"\"\n",
    "    #vowel_count: int = 0\n",
    "\n",
    "    print(\"introducing delay in the function runtime\")\n",
    "    time.sleep(2)\n",
    "\n",
    "    vowel_count = [count for count in text if count in list('aeiou')]\n",
    "    return len(vowel_count)\n",
    "\n",
    "print(count_vowels('aniruddh'))\n",
    "print(count_vowels('aniruddh'))\n",
    "print(count_vowels('aniruddh'))"
   ]
  },
  {
   "attachments": {},
   "cell_type": "markdown",
   "metadata": {},
   "source": [
    "## Deprecated\n",
    "\n",
    "This decorator is used to mark any piece of your program with the Deprecation warning. \n",
    "It does require an external package named \"deprecated\""
   ]
  },
  {
   "cell_type": "code",
   "execution_count": 14,
   "metadata": {},
   "outputs": [
    {
     "name": "stderr",
     "output_type": "stream",
     "text": [
      "/tmp/ipykernel_745971/2234755369.py:10: DeprecationWarning: Call to deprecated function (or staticmethod) some_feature. (This function will be called \"New feature\" in the new release) -- Deprecated since version 1.0.0.\n",
      "  some_feature(\"some input\")\n"
     ]
    }
   ],
   "source": [
    "%%capture --no-stderr\n",
    "! pip install deprecated\n",
    "\n",
    "from deprecated import deprecated\n",
    "from typing import Any, NoReturn\n",
    "\n",
    "@deprecated(\"This function will be called \\\"New feature\\\" in the new release\", version=\"1.0.0\")\n",
    "def some_feature(arg: Any) -> NoReturn:\n",
    "    print(\"Running some feature\")\n",
    "\n",
    "some_feature(\"some input\")\n"
   ]
  },
  {
   "attachments": {},
   "cell_type": "markdown",
   "metadata": {},
   "source": [
    "## AtExit Decorator\n",
    "\n",
    "This decorator calls the decorated function when the python program exits"
   ]
  },
  {
   "cell_type": "code",
   "execution_count": 15,
   "metadata": {},
   "outputs": [
    {
     "ename": "ZeroDivisionError",
     "evalue": "division by zero",
     "output_type": "error",
     "traceback": [
      "\u001b[0;31m---------------------------------------------------------------------------\u001b[0m",
      "\u001b[0;31mZeroDivisionError\u001b[0m                         Traceback (most recent call last)",
      "Cell \u001b[0;32mIn[15], line 8\u001b[0m\n\u001b[1;32m      4\u001b[0m \u001b[39m@atexit\u001b[39m\u001b[39m.\u001b[39mregister\n\u001b[1;32m      5\u001b[0m \u001b[39mdef\u001b[39;00m \u001b[39mwrap_function\u001b[39m() \u001b[39m-\u001b[39m\u001b[39m>\u001b[39m NoReturn:\n\u001b[1;32m      6\u001b[0m     \u001b[39mprint\u001b[39m(\u001b[39m\"\u001b[39m\u001b[39mdo all things needed before program shuts down\u001b[39m\u001b[39m\"\u001b[39m)\n\u001b[0;32m----> 8\u001b[0m \u001b[39m1\u001b[39;49m\u001b[39m/\u001b[39;49m\u001b[39m0\u001b[39;49m\n",
      "\u001b[0;31mZeroDivisionError\u001b[0m: division by zero"
     ]
    }
   ],
   "source": [
    "import atexit\n",
    "from typing import NoReturn\n",
    "\n",
    "@atexit.register\n",
    "def wrap_function() -> NoReturn:\n",
    "    print(\"do all things needed before program shuts down\")\n",
    "\n",
    "1/0"
   ]
  }
 ],
 "metadata": {
  "kernelspec": {
   "display_name": "LearningPython",
   "language": "python",
   "name": "python3"
  },
  "language_info": {
   "codemirror_mode": {
    "name": "ipython",
    "version": 3
   },
   "file_extension": ".py",
   "mimetype": "text/x-python",
   "name": "python",
   "nbconvert_exporter": "python",
   "pygments_lexer": "ipython3",
   "version": "3.8.17"
  },
  "orig_nbformat": 4,
  "vscode": {
   "interpreter": {
    "hash": "9c0ad712d94e7c6d34e1d667a09a4ef82014ad9a410c7f93ea4fcc3f239207b8"
   }
  }
 },
 "nbformat": 4,
 "nbformat_minor": 2
}
