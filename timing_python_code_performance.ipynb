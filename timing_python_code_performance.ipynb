{
 "cells": [
  {
   "attachments": {},
   "cell_type": "markdown",
   "metadata": {},
   "source": [
    "# Timing Python Code performance using Timeit\n",
    "\n",
    "Source: [Python performance measurement using timeit](https://www.youtube.com/watch?v=QE903dZWfEo)\n",
    "\n",
    "In this notebook we are going to see how we can use the \"timeit\"\n",
    "module to time small Snippets of code in\n",
    "Python \n",
    "\n",
    "This method is generally useful when timing only small snippets of code especially timing individual functions in your code. For larger code , it is recommended to use the \"profile\" package."
   ]
  },
  {
   "cell_type": "code",
   "execution_count": 41,
   "metadata": {},
   "outputs": [
    {
     "name": "stdout",
     "output_type": "stream",
     "text": [
      "total time:0.6252769827842712\n"
     ]
    }
   ],
   "source": [
    "import timeit\n",
    "import random\n",
    "\n",
    "def get_random_integer() -> int:\n",
    "    return random.randint(1, 100)\n",
    "\n",
    "#timer_using_globals: float = timeit.timeit(stmt='get_random_integer()', globals=globals())\n",
    "timer_using_setup:float = timeit.timeit(stmt='random.randint(1,100)', setup='import random')\n",
    "\n",
    "print(f'total time:{timer_using_setup}')\n"
   ]
  },
  {
   "attachments": {},
   "cell_type": "markdown",
   "metadata": {},
   "source": [
    "The timeit function takes in a argument called \"stmt\" or statement, and\n",
    "you can pass it in as a string or as a\n",
    "function without any parameters \n",
    "\n",
    "One thing to note here is timeit module runs in its own scope so it is not aware of the functions or variables defined or declared in your code. This is why we also need to supply it with our globals() built-in function.\n",
    "\n",
    "If we do not do that , then it is going to complain with <span style=\"color:yellow\">\"get_random_integer() not defined\"</span>.\n",
    "\n",
    "if the code you are running using timeit is imported from an external module as in \"timer_using_setup\" example above, then we need to also supply \"setup\" argument declaring the module that 'timeit\" will need to import before executing the function."
   ]
  },
  {
   "cell_type": "code",
   "execution_count": 42,
   "metadata": {},
   "outputs": [
    {
     "data": {
      "text/plain": [
       "0.5559375509619713"
      ]
     },
     "execution_count": 42,
     "metadata": {},
     "output_type": "execute_result"
    }
   ],
   "source": [
    "import timeit\n",
    "import random\n",
    "\n",
    "timeit_timer: float = timeit.timeit(stmt='random.randint(1,100)', setup='import random',\\\n",
    "                                    number=1000_000)\n",
    "\n",
    "timeit_timer"
   ]
  },
  {
   "attachments": {},
   "cell_type": "markdown",
   "metadata": {},
   "source": [
    "Another parameter that we can use with the timeit funtion is the 'number' parameter which dictates the number of times the test to run. By default it is set internally to 1000,000"
   ]
  }
 ],
 "metadata": {
  "kernelspec": {
   "display_name": "Python 3",
   "language": "python",
   "name": "python3"
  },
  "language_info": {
   "codemirror_mode": {
    "name": "ipython",
    "version": 3
   },
   "file_extension": ".py",
   "mimetype": "text/x-python",
   "name": "python",
   "nbconvert_exporter": "python",
   "pygments_lexer": "ipython3",
   "version": "3.11.4"
  },
  "orig_nbformat": 4,
  "vscode": {
   "interpreter": {
    "hash": "e98b47d634abda7709beb054e249b01086878e222a92b07cfb67a385a72c7b32"
   }
  }
 },
 "nbformat": 4,
 "nbformat_minor": 2
}
