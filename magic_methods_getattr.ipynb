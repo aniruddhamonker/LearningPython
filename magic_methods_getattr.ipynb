{
 "cells": [
  {
   "attachments": {},
   "cell_type": "markdown",
   "metadata": {},
   "source": [
    "# Magic Methods\n",
    "\n",
    "* Python getattr() function is used to get the value of an object’s attribute and if no attribute of that object is found, default value is returned\n",
    "* Basically, returning the default value is the main reason why you may need to use Python getattr() function\n",
    "\n",
    "  **getattr(object_name, attribute_name[, default_value])**\n",
    "\n",
    "* With objects, you need to deal with its attributes. Ordinarily we do \"instance.attribute\". Sometimes we need more control (when we do not know the name of the attribute in advance).\n",
    "For example, instance.attribute would become getattr(instance, attribute_name). \n",
    "* Using this model, we can get the attribute by supplying the attribute_name as a string.\n",
    "* You can also tell a class how to deal with attributes which it doesn't explicitly manage and do that via __getattr__ method.\n",
    "* Python will call this method whenever you request an attribute that hasn't already been defined, so you can define what to do with it.\n",
    "However, the class should have \"__getattr__\" method defined.\n",
    "\n",
    "## \\_\\_getattr\\_\\_"
   ]
  },
  {
   "cell_type": "code",
   "execution_count": 1,
   "metadata": {},
   "outputs": [
    {
     "name": "stdout",
     "output_type": "stream",
     "text": [
      "Available attributes in this class are [30, 'ride1up']\n"
     ]
    },
    {
     "data": {
      "text/plain": [
       "'Attribute not defined in the class'"
      ]
     },
     "execution_count": 1,
     "metadata": {},
     "output_type": "execute_result"
    }
   ],
   "source": [
    "class ebike:\n",
    "    def __init__(self, range: int, name: str) -> str:\n",
    "        self.range = range\n",
    "        self.name = name\n",
    "\n",
    "    def __getattr__(self, unknown_atttribute):\n",
    "        print (f\"Available attributes in this class are {[attr for attr in self.__dict__.values()]}\")\n",
    "        return \"Attribute not defined in the class\"\n",
    "    \n",
    "    \n",
    "ebike1 = ebike(30, \"ride1up\")\n",
    "ebike1.range\n",
    "ebike1.name\n",
    "ebike1.year\n"
   ]
  },
  {
   "attachments": {},
   "cell_type": "markdown",
   "metadata": {},
   "source": [
    "## \\_\\_getattribute\\_\\_\n",
    "\n",
    "* If you need to catch every attribute regardless whether it exists or not, use \\_\\_getattribute\\_\\_ instead. \n",
    "* The difference is that \\_\\_getattr\\_\\_ only gets called for attributes that don't actually exist. \n",
    "* If you set an attribute directly, referencing that attribute will retrieve it without calling \\_\\_getattr\\_\\_. \\_\\_getattribute\\_\\_ is called all the times.\n",
    "* Be careful, when defining \\_\\_getattribute\\_\\_\" method as it can lead to infinite recursion\n",
    "* Here's an example:"
   ]
  },
  {
   "cell_type": "code",
   "execution_count": null,
   "metadata": {},
   "outputs": [],
   "source": [
    "from typing import Any\n",
    "\n",
    "\n",
    "class Foo:\n",
    "    def __init__(self, attr_a):\n",
    "        self.attr_a = attr_a\n",
    "\n",
    "    def __getattribute__(self, __name: str) -> Any:\n",
    "        try:\n",
    "            return self.__dict__[__name]\n",
    "        except KeyError:\n",
    "         return \"default\"\n",
    "\n",
    "foo1 = Foo(\"name\")\n",
    "foo1.attr_a"
   ]
  },
  {
   "attachments": {},
   "cell_type": "markdown",
   "metadata": {},
   "source": [
    "* This will cause infinite recursion. The culprit here is the line return \"self.\\_\\_dict\\_\\_[attr]\". \n",
    "* All attributes are stored in self.\\_\\_dict\\_\\_ and available by their name. \n",
    "* Trying to access \"f.a\" attempts to access the a attribute of \"f\". \n",
    "* This calls f.\\_\\_getattribute\\_\\_('a'). \\_\\_getattribute\\_\\_ then tries to load self.\\_\\_dict\\_\\_. \\_\\_dict\\_\\_ is an attribute of self == f and so python calls f.\\_\\_getattribute\\_\\_('\\_\\_dict\\_\\_') which again tries to access the attribute '\\_\\_dict\\_\\_'. \n",
    "* This is infinite recursion.\n",
    "* The correct way to use \"\\_\\_getattribute\\_\\_\" is not call this method for the current class, instead from one of the Super(inherited class) as shown below:\n"
   ]
  },
  {
   "cell_type": "code",
   "execution_count": 2,
   "metadata": {},
   "outputs": [
    {
     "name": "stdout",
     "output_type": "stream",
     "text": [
      "Aniruddh\n",
      "Amonker\n"
     ]
    },
    {
     "data": {
      "text/plain": [
       "'default'"
      ]
     },
     "execution_count": 2,
     "metadata": {},
     "output_type": "execute_result"
    }
   ],
   "source": [
    "class Foo:\n",
    "    def __init__(self):\n",
    "        self.name = \"Aniruddh\"\n",
    "        self.last_name = \"Amonker\"\n",
    "    \n",
    "    def __getattribute__(self, attr):\n",
    "        try:\n",
    "            return super().__getattribute__(attr)\n",
    "        except AttributeError:\n",
    "            return \"default\"\n",
    "\n",
    "instance_a = Foo()\n",
    "print(instance_a.name)\n",
    "print(instance_a.last_name)\n",
    "instance_a.unknown_attr"
   ]
  },
  {
   "attachments": {},
   "cell_type": "markdown",
   "metadata": {},
   "source": [
    "## So then, when do we use \\_\\_getattribute\\_\\_?\n",
    "\n",
    "* From above observations, it appears using __getattr__ is more practical for the use case to handle undefined attributes of the class.\n",
    "* So, why and when would someone use \"__getattribute__\" method?\n",
    "* The cool thing about __getattribute__ is that it essentially allows you to overload the dot when accessing a class. This allows you to customize how attributes are accessed at a low level.\n"
   ]
  },
  {
   "attachments": {},
   "cell_type": "markdown",
   "metadata": {},
   "source": [
    "## A better way to use \\_\\_getattribute\\_\\_\n",
    "\n",
    "* If your class contain both getattr and getattribute magic methods then \\_\\_getattribute\\_\\_ is called first. \n",
    "* But if \\_\\_getattribute\\_\\_ raises AttributeError exception then the exception will be ignored and \\_\\_getattr\\_\\_ method will be invoked.\n",
    "\n",
    "\n"
   ]
  },
  {
   "cell_type": "code",
   "execution_count": 27,
   "metadata": {},
   "outputs": [
    {
     "data": {
      "text/plain": [
       "'Atrribute does not exist, using __getattr__ method'"
      ]
     },
     "execution_count": 27,
     "metadata": {},
     "output_type": "execute_result"
    }
   ],
   "source": [
    "class Foo:\n",
    "    def __init__(self):\n",
    "        self.name = \"Aniruddh\"\n",
    "        self.last_name = \"Amonker\"\n",
    "    \n",
    "    def __getattribute__(self, attr):\n",
    "        return super().__getattribute__(attr)\n",
    "        \n",
    "    def __getattr__(self, attr):\n",
    "        return \"Atrribute does not exist, using __getattr__ method\"\n",
    "    \n",
    "instance_a = Foo()\n",
    "instance_a.unknown_attr"
   ]
  }
 ],
 "metadata": {
  "kernelspec": {
   "display_name": "Python 3",
   "language": "python",
   "name": "python3"
  },
  "language_info": {
   "codemirror_mode": {
    "name": "ipython",
    "version": 3
   },
   "file_extension": ".py",
   "mimetype": "text/x-python",
   "name": "python",
   "nbconvert_exporter": "python",
   "pygments_lexer": "ipython3",
   "version": "3.11.4"
  },
  "orig_nbformat": 4,
  "vscode": {
   "interpreter": {
    "hash": "e98b47d634abda7709beb054e249b01086878e222a92b07cfb67a385a72c7b32"
   }
  }
 },
 "nbformat": 4,
 "nbformat_minor": 2
}
